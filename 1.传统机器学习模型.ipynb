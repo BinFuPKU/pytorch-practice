{
 "cells": [
  {
   "cell_type": "code",
   "execution_count": 4,
   "metadata": {},
   "outputs": [
    {
     "name": "stdout",
     "output_type": "stream",
     "text": [
      "tensor([[ 5.0000e-01],\n",
      "        [ 2.5000e-01],\n",
      "        [-1.4901e-08],\n",
      "        [ 7.4506e-09],\n",
      "        [ 2.9802e-08],\n",
      "        [ 1.4901e-08],\n",
      "        [ 1.1176e-08],\n",
      "        [-1.6391e-07],\n",
      "        [ 1.4901e-08],\n",
      "        [-5.2154e-08]])\n"
     ]
    },
    {
     "name": "stderr",
     "output_type": "stream",
     "text": [
      "/Users/fubin/anaconda3/lib/python3.6/site-packages/ipykernel_launcher.py:13: UserWarning: torch.lstsq is deprecated in favor of torch.linalg.lstsq and will be removed in a future PyTorch release.\n",
      "torch.linalg.lstsq has reversed arguments and does not return the QR decomposition in the returned tuple (although it returns other information about the problem).\n",
      "To get the qr decomposition consider using torch.linalg.qr.\n",
      "The returned solution in torch.lstsq stored the residuals of the solution in the last m - n columns of the returned value whenever m > n. In torch.linalg.lstsq, the residuals in the field 'residuals' of the returned named tuple.\n",
      "The unpacking of the solution, as in\n",
      "X, _ = torch.lstsq(B, A).solution[:A.size(1)]\n",
      "should be replaced with\n",
      "X = torch.linalg.lstsq(A, B).solution (Triggered internally at  ../aten/src/ATen/native/BatchLinearAlgebra.cpp:3668.)\n",
      "  del sys.path[0]\n"
     ]
    }
   ],
   "source": [
    "# 最小二乘法 torch.lstsq(Y,X)\n",
    "# XW=Y  =》 W=(X^T*X)^-1*(X^T*Y)\n",
    "\n",
    "import numpy as np\n",
    "import torch\n",
    "\n",
    "# 目标函数\n",
    "def func(x):\n",
    "    return sum([x[:,i]/float(2*i+2) for i in range(x.shape[1])])\n",
    "# 输入数据\n",
    "input = torch.randn((10,2))\n",
    "# 生成标签\n",
    "label = func(input.detach())\n",
    "w, _ = torch.lstsq(label, input)\n",
    "print(w)\n"
   ]
  },
  {
   "cell_type": "code",
   "execution_count": 10,
   "metadata": {},
   "outputs": [
    {
     "name": "stdout",
     "output_type": "stream",
     "text": [
      "years: tensor([1950., 1951., 1952., 1953., 1954., 1955., 1956., 1957., 1958., 1959.,\n",
      "        1960., 1961., 1962., 1963., 1964., 1965., 1966., 1967., 1968., 1969.,\n",
      "        1970., 1971., 1972., 1973., 1974., 1975., 1976., 1977., 1978., 1979.,\n",
      "        1980., 1981., 1982., 1983., 1984., 1985., 1986., 1987., 1988., 1989.,\n",
      "        1990., 1991., 1992., 1993., 1994., 1995., 1996., 1997., 1998., 1999.,\n",
      "        2000., 2001., 2002., 2003., 2004., 2005., 2006., 2007., 2008., 2009.,\n",
      "        2010., 2011., 2012., 2013., 2014., 2015., 2016.])\n",
      "populations: tensor([2.5576e+09, 2.5949e+09, 2.6368e+09, 2.6821e+09, 2.7302e+09, 2.7821e+09,\n",
      "        2.8353e+09, 2.8913e+09, 2.9481e+09, 3.0007e+09, 3.0430e+09, 3.0840e+09,\n",
      "        3.1401e+09, 3.2098e+09, 3.2812e+09, 3.3504e+09, 3.4207e+09, 3.4903e+09,\n",
      "        3.5623e+09, 3.6372e+09, 3.7127e+09, 3.7903e+09, 3.8666e+09, 3.9421e+09,\n",
      "        4.0166e+09, 4.0891e+09, 4.1602e+09, 4.2321e+09, 4.3041e+09, 4.3790e+09,\n",
      "        4.4514e+09, 4.5344e+09, 4.6146e+09, 4.6957e+09, 4.7746e+09, 4.8565e+09,\n",
      "        4.9406e+09, 5.0272e+09, 5.1146e+09, 5.2014e+09, 5.2890e+09, 5.3716e+09,\n",
      "        5.4561e+09, 5.5383e+09, 5.6187e+09, 5.6992e+09, 5.7794e+09, 5.8580e+09,\n",
      "        5.9352e+09, 6.0121e+09, 6.0886e+09, 6.1652e+09, 6.2420e+09, 6.3186e+09,\n",
      "        6.3957e+09, 6.4730e+09, 6.5513e+09, 6.6299e+09, 6.7090e+09, 6.7882e+09,\n",
      "        6.8586e+09, 6.9360e+09, 7.0139e+09, 7.0921e+09, 7.1700e+09, 7.2479e+09,\n",
      "        7.3260e+09])\n"
     ]
    },
    {
     "data": {
      "text/html": [
       "<div>\n",
       "<style scoped>\n",
       "    .dataframe tbody tr th:only-of-type {\n",
       "        vertical-align: middle;\n",
       "    }\n",
       "\n",
       "    .dataframe tbody tr th {\n",
       "        vertical-align: top;\n",
       "    }\n",
       "\n",
       "    .dataframe thead th {\n",
       "        text-align: right;\n",
       "    }\n",
       "</style>\n",
       "<table border=\"1\" class=\"dataframe\">\n",
       "  <thead>\n",
       "    <tr style=\"text-align: right;\">\n",
       "      <th></th>\n",
       "      <th>Year</th>\n",
       "      <th>United States Census Bureau (2017)[29]</th>\n",
       "      <th>Population Reference Bureau (1973–2016)[15]</th>\n",
       "      <th>United Nations Department of Economic and Social Affairs (2015)[16]</th>\n",
       "      <th>Maddison (2008)[17]</th>\n",
       "      <th>HYDE (2007)[25]</th>\n",
       "      <th>Tanton (1994)[19]</th>\n",
       "      <th>Biraben (1980)[20]</th>\n",
       "      <th>McEvedy &amp; Jones (1978)[21]</th>\n",
       "      <th>Thomlinson (1975)[22]</th>\n",
       "      <th>Durand (1974)[23]</th>\n",
       "      <th>Clark (1967)[24]</th>\n",
       "    </tr>\n",
       "  </thead>\n",
       "  <tbody>\n",
       "    <tr>\n",
       "      <th>0</th>\n",
       "      <td>1950</td>\n",
       "      <td>2557628654</td>\n",
       "      <td>2.516000e+09</td>\n",
       "      <td>2.525149e+09</td>\n",
       "      <td>2.544000e+09</td>\n",
       "      <td>2.527960e+09</td>\n",
       "      <td>2.400000e+09</td>\n",
       "      <td>2.527000e+09</td>\n",
       "      <td>2.500000e+09</td>\n",
       "      <td>2.400000e+09</td>\n",
       "      <td>NaN</td>\n",
       "      <td>2.486000e+09</td>\n",
       "    </tr>\n",
       "    <tr>\n",
       "      <th>1</th>\n",
       "      <td>1951</td>\n",
       "      <td>2594939877</td>\n",
       "      <td>NaN</td>\n",
       "      <td>2.572851e+09</td>\n",
       "      <td>2.571663e+09</td>\n",
       "      <td>NaN</td>\n",
       "      <td>NaN</td>\n",
       "      <td>NaN</td>\n",
       "      <td>NaN</td>\n",
       "      <td>NaN</td>\n",
       "      <td>NaN</td>\n",
       "      <td>NaN</td>\n",
       "    </tr>\n",
       "    <tr>\n",
       "      <th>2</th>\n",
       "      <td>1952</td>\n",
       "      <td>2636772306</td>\n",
       "      <td>NaN</td>\n",
       "      <td>2.619292e+09</td>\n",
       "      <td>2.617949e+09</td>\n",
       "      <td>NaN</td>\n",
       "      <td>NaN</td>\n",
       "      <td>NaN</td>\n",
       "      <td>NaN</td>\n",
       "      <td>NaN</td>\n",
       "      <td>NaN</td>\n",
       "      <td>NaN</td>\n",
       "    </tr>\n",
       "    <tr>\n",
       "      <th>3</th>\n",
       "      <td>1953</td>\n",
       "      <td>2682053389</td>\n",
       "      <td>NaN</td>\n",
       "      <td>2.665865e+09</td>\n",
       "      <td>2.665959e+09</td>\n",
       "      <td>NaN</td>\n",
       "      <td>NaN</td>\n",
       "      <td>NaN</td>\n",
       "      <td>NaN</td>\n",
       "      <td>NaN</td>\n",
       "      <td>NaN</td>\n",
       "      <td>NaN</td>\n",
       "    </tr>\n",
       "    <tr>\n",
       "      <th>4</th>\n",
       "      <td>1954</td>\n",
       "      <td>2730228104</td>\n",
       "      <td>NaN</td>\n",
       "      <td>2.713172e+09</td>\n",
       "      <td>2.716927e+09</td>\n",
       "      <td>NaN</td>\n",
       "      <td>NaN</td>\n",
       "      <td>NaN</td>\n",
       "      <td>NaN</td>\n",
       "      <td>NaN</td>\n",
       "      <td>NaN</td>\n",
       "      <td>NaN</td>\n",
       "    </tr>\n",
       "    <tr>\n",
       "      <th>...</th>\n",
       "      <td>...</td>\n",
       "      <td>...</td>\n",
       "      <td>...</td>\n",
       "      <td>...</td>\n",
       "      <td>...</td>\n",
       "      <td>...</td>\n",
       "      <td>...</td>\n",
       "      <td>...</td>\n",
       "      <td>...</td>\n",
       "      <td>...</td>\n",
       "      <td>...</td>\n",
       "      <td>...</td>\n",
       "    </tr>\n",
       "    <tr>\n",
       "      <th>62</th>\n",
       "      <td>2012</td>\n",
       "      <td>7013871313</td>\n",
       "      <td>7.057075e+09</td>\n",
       "      <td>7.080072e+09</td>\n",
       "      <td>NaN</td>\n",
       "      <td>NaN</td>\n",
       "      <td>NaN</td>\n",
       "      <td>NaN</td>\n",
       "      <td>NaN</td>\n",
       "      <td>NaN</td>\n",
       "      <td>NaN</td>\n",
       "      <td>NaN</td>\n",
       "    </tr>\n",
       "    <tr>\n",
       "      <th>63</th>\n",
       "      <td>2013</td>\n",
       "      <td>7092128094</td>\n",
       "      <td>7.136796e+09</td>\n",
       "      <td>7.162119e+09</td>\n",
       "      <td>NaN</td>\n",
       "      <td>NaN</td>\n",
       "      <td>NaN</td>\n",
       "      <td>NaN</td>\n",
       "      <td>NaN</td>\n",
       "      <td>NaN</td>\n",
       "      <td>NaN</td>\n",
       "      <td>NaN</td>\n",
       "    </tr>\n",
       "    <tr>\n",
       "      <th>64</th>\n",
       "      <td>2014</td>\n",
       "      <td>7169968185</td>\n",
       "      <td>7.238184e+09</td>\n",
       "      <td>7.243784e+09</td>\n",
       "      <td>NaN</td>\n",
       "      <td>NaN</td>\n",
       "      <td>NaN</td>\n",
       "      <td>NaN</td>\n",
       "      <td>NaN</td>\n",
       "      <td>NaN</td>\n",
       "      <td>NaN</td>\n",
       "      <td>NaN</td>\n",
       "    </tr>\n",
       "    <tr>\n",
       "      <th>65</th>\n",
       "      <td>2015</td>\n",
       "      <td>7247892788</td>\n",
       "      <td>7.336435e+09</td>\n",
       "      <td>7.349472e+09</td>\n",
       "      <td>NaN</td>\n",
       "      <td>NaN</td>\n",
       "      <td>NaN</td>\n",
       "      <td>NaN</td>\n",
       "      <td>NaN</td>\n",
       "      <td>NaN</td>\n",
       "      <td>NaN</td>\n",
       "      <td>NaN</td>\n",
       "    </tr>\n",
       "    <tr>\n",
       "      <th>66</th>\n",
       "      <td>2016</td>\n",
       "      <td>7325996709</td>\n",
       "      <td>7.418152e+09</td>\n",
       "      <td>NaN</td>\n",
       "      <td>NaN</td>\n",
       "      <td>NaN</td>\n",
       "      <td>NaN</td>\n",
       "      <td>NaN</td>\n",
       "      <td>NaN</td>\n",
       "      <td>NaN</td>\n",
       "      <td>NaN</td>\n",
       "      <td>NaN</td>\n",
       "    </tr>\n",
       "  </tbody>\n",
       "</table>\n",
       "<p>67 rows × 12 columns</p>\n",
       "</div>"
      ],
      "text/plain": [
       "    Year  United States Census Bureau (2017)[29]  \\\n",
       "0   1950                              2557628654   \n",
       "1   1951                              2594939877   \n",
       "2   1952                              2636772306   \n",
       "3   1953                              2682053389   \n",
       "4   1954                              2730228104   \n",
       "..   ...                                     ...   \n",
       "62  2012                              7013871313   \n",
       "63  2013                              7092128094   \n",
       "64  2014                              7169968185   \n",
       "65  2015                              7247892788   \n",
       "66  2016                              7325996709   \n",
       "\n",
       "    Population Reference Bureau (1973–2016)[15]  \\\n",
       "0                                  2.516000e+09   \n",
       "1                                           NaN   \n",
       "2                                           NaN   \n",
       "3                                           NaN   \n",
       "4                                           NaN   \n",
       "..                                          ...   \n",
       "62                                 7.057075e+09   \n",
       "63                                 7.136796e+09   \n",
       "64                                 7.238184e+09   \n",
       "65                                 7.336435e+09   \n",
       "66                                 7.418152e+09   \n",
       "\n",
       "    United Nations Department of Economic and Social Affairs (2015)[16]  \\\n",
       "0                                        2.525149e+09                     \n",
       "1                                        2.572851e+09                     \n",
       "2                                        2.619292e+09                     \n",
       "3                                        2.665865e+09                     \n",
       "4                                        2.713172e+09                     \n",
       "..                                                ...                     \n",
       "62                                       7.080072e+09                     \n",
       "63                                       7.162119e+09                     \n",
       "64                                       7.243784e+09                     \n",
       "65                                       7.349472e+09                     \n",
       "66                                                NaN                     \n",
       "\n",
       "    Maddison (2008)[17]  HYDE (2007)[25]  Tanton (1994)[19]  \\\n",
       "0          2.544000e+09     2.527960e+09       2.400000e+09   \n",
       "1          2.571663e+09              NaN                NaN   \n",
       "2          2.617949e+09              NaN                NaN   \n",
       "3          2.665959e+09              NaN                NaN   \n",
       "4          2.716927e+09              NaN                NaN   \n",
       "..                  ...              ...                ...   \n",
       "62                  NaN              NaN                NaN   \n",
       "63                  NaN              NaN                NaN   \n",
       "64                  NaN              NaN                NaN   \n",
       "65                  NaN              NaN                NaN   \n",
       "66                  NaN              NaN                NaN   \n",
       "\n",
       "    Biraben (1980)[20]  McEvedy & Jones (1978)[21]  Thomlinson (1975)[22]  \\\n",
       "0         2.527000e+09                2.500000e+09           2.400000e+09   \n",
       "1                  NaN                         NaN                    NaN   \n",
       "2                  NaN                         NaN                    NaN   \n",
       "3                  NaN                         NaN                    NaN   \n",
       "4                  NaN                         NaN                    NaN   \n",
       "..                 ...                         ...                    ...   \n",
       "62                 NaN                         NaN                    NaN   \n",
       "63                 NaN                         NaN                    NaN   \n",
       "64                 NaN                         NaN                    NaN   \n",
       "65                 NaN                         NaN                    NaN   \n",
       "66                 NaN                         NaN                    NaN   \n",
       "\n",
       "   Durand (1974)[23]  Clark (1967)[24]  \n",
       "0                NaN      2.486000e+09  \n",
       "1                NaN               NaN  \n",
       "2                NaN               NaN  \n",
       "3                NaN               NaN  \n",
       "4                NaN               NaN  \n",
       "..               ...               ...  \n",
       "62               NaN               NaN  \n",
       "63               NaN               NaN  \n",
       "64               NaN               NaN  \n",
       "65               NaN               NaN  \n",
       "66               NaN               NaN  \n",
       "\n",
       "[67 rows x 12 columns]"
      ]
     },
     "execution_count": 10,
     "metadata": {},
     "output_type": "execute_result"
    }
   ],
   "source": [
    "# 读取网页表格\n",
    "\n",
    "import torch\n",
    "import pandas as pd\n",
    "df = pd.read_html('https://en.wikipedia.org/wiki/Estimates_of_historical_world_population', header=0, attrs={'class':'wikitable'})[2]\n",
    "# 获取某列数据\n",
    "years = torch.tensor(df.iloc[:,0], dtype=torch.float32)\n",
    "populations = torch.tensor(df.iloc[:,1], dtype=torch.float32)\n",
    "print('years:', years)\n",
    "print('populations:', populations)\n",
    "df"
   ]
  },
  {
   "cell_type": "code",
   "execution_count": 48,
   "metadata": {},
   "outputs": [
    {
     "name": "stdout",
     "output_type": "stream",
     "text": [
      "tensor([[ 7.5291e+07],\n",
      "        [-1.4452e+11]])\n",
      "tensor([ 7.5306e+07, -1.4455e+11])\n"
     ]
    },
    {
     "name": "stderr",
     "output_type": "stream",
     "text": [
      "/Users/fubin/anaconda3/lib/python3.6/site-packages/ipykernel_launcher.py:24: UserWarning: Matplotlib is currently using agg, which is a non-GUI backend, so cannot show the figure.\n"
     ]
    },
    {
     "data": {
      "image/png": "[encoded data removed]",
      "text/plain": [
       "<Figure size 432x288 with 1 Axes>"
      ]
     },
     "metadata": {
      "needs_background": "light"
     },
     "output_type": "display_data"
    }
   ],
   "source": [
    "# 两种方式实现最小二乘线性回归\n",
    "\n",
    "X = torch.stack([years, torch.ones_like(years)], 1)\n",
    "Y = populations\n",
    "\n",
    "# torch.lstsq(Y,X)\n",
    "W, _ = torch.lstsq(Y, X)\n",
    "print(W[:2,:])\n",
    "\n",
    "# XW=Y => (X^T*X)^-1 * X^T*Y\n",
    "W = X.t().mm(X).inverse().mm(X.t()).mv(Y)\n",
    "print(W)\n",
    "\n",
    "# 画图\n",
    "import matplotlib\n",
    "matplotlib.use('Agg')\n",
    "import matplotlib.pyplot as plt\n",
    "plt.scatter(years, populations, s=2, label='actual', color='k') # 实际散点图\n",
    "estimates = [W[0]*year+W[1] for year in years]\n",
    "plt.plot(years, estimates, label='predict', color='r') # 预测直线\n",
    "plt.xlabel('Year')\n",
    "plt.ylabel('Population')\n",
    "plt.legend()\n",
    "plt.show()"
   ]
  },
  {
   "cell_type": "code",
   "execution_count": 81,
   "metadata": {},
   "outputs": [
    {
     "name": "stdout",
     "output_type": "stream",
     "text": [
      "第0迭代损失为1.0189141035079956\n",
      "第1000迭代损失为0.07283364236354828\n",
      "第2000迭代损失为0.0033853892236948013\n",
      "第3000迭代损失为0.0032725753262639046\n",
      "第4000迭代损失为0.003129624994471669\n",
      "第5000迭代损失为0.003129950724542141\n",
      "第6000迭代损失为0.0031296205706894398\n",
      "第7000迭代损失为0.0031297088135033846\n",
      "第8000迭代损失为0.0035961747635155916\n",
      "第9000迭代损失为0.0034167724661529064\n"
     ]
    },
    {
     "name": "stderr",
     "output_type": "stream",
     "text": [
      "/Users/fubin/anaconda3/lib/python3.6/site-packages/ipykernel_launcher.py:36: UserWarning: Matplotlib is currently using agg, which is a non-GUI backend, so cannot show the figure.\n"
     ]
    },
    {
     "data": {
      "image/png": "[encoded data removed]",
      "text/plain": [
       "<Figure size 432x288 with 1 Axes>"
      ]
     },
     "metadata": {
      "needs_background": "light"
     },
     "output_type": "display_data"
    }
   ],
   "source": [
    "# 神经网络实现线性回归\n",
    "\n",
    "import torch\n",
    "\n",
    "X = torch.stack([years, torch.ones_like(years)], 1)\n",
    "Y = populations.unsqueeze(1)\n",
    "\n",
    "# 非常重要，需要输入归一化，这是由于神经网络的参数初始化\n",
    "X_norm = (X-X.mean())/X.std()\n",
    "Y_norm = (Y-Y.mean())/Y.std()\n",
    "\n",
    "model = torch.nn.Linear(2,1)\n",
    "criterion = torch.nn.MSELoss()\n",
    "optimizer = torch.optim.Adam(model.parameters(), lr=0.1)\n",
    "\n",
    "for step in range(10000):\n",
    "    optimizer.zero_grad()\n",
    "    output = model(X_norm)\n",
    "    loss = criterion(output, Y_norm)\n",
    "    if step%1000==0:\n",
    "        print('第{}迭代损失为{}'.format(step, loss))\n",
    "    loss.backward()\n",
    "    optimizer.step()\n",
    "\n",
    "\n",
    "# 画图\n",
    "import matplotlib\n",
    "matplotlib.use('Agg')\n",
    "import matplotlib.pyplot as plt\n",
    "plt.scatter(X_norm[:,0], Y_norm, s=2, label='actual', color='k') # 实际散点图\n",
    "estimates = model(X_norm).detach().numpy()\n",
    "plt.plot(X_norm[:,0], estimates, label='predict', color='r') # 预测直线\n",
    "plt.xlabel('Year')\n",
    "plt.ylabel('Population')\n",
    "plt.legend()\n",
    "plt.show()\n"
   ]
  },
  {
   "cell_type": "code",
   "execution_count": 3,
   "metadata": {},
   "outputs": [
    {
     "name": "stdout",
     "output_type": "stream",
     "text": [
      "Downloading http://yann.lecun.com/exdb/mnist/train-images-idx3-ubyte.gz\n",
      "Downloading http://yann.lecun.com/exdb/mnist/train-images-idx3-ubyte.gz to ./data/mnist/MNIST/raw/train-images-idx3-ubyte.gz\n"
     ]
    },
    {
     "data": {
      "application/vnd.jupyter.widget-view+json": {
       "model_id": "a4ab886923ca4bdfb6e43e2b46dadcd1",
       "version_major": 2,
       "version_minor": 0
      },
      "text/plain": [
       "  0%|          | 0/9912422 [00:00<?, ?it/s]"
      ]
     },
     "metadata": {},
     "output_type": "display_data"
    },
    {
     "name": "stdout",
     "output_type": "stream",
     "text": [
      "Extracting ./data/mnist/MNIST/raw/train-images-idx3-ubyte.gz to ./data/mnist/MNIST/raw\n",
      "\n",
      "Downloading http://yann.lecun.com/exdb/mnist/train-labels-idx1-ubyte.gz\n",
      "Downloading http://yann.lecun.com/exdb/mnist/train-labels-idx1-ubyte.gz to ./data/mnist/MNIST/raw/train-labels-idx1-ubyte.gz\n"
     ]
    },
    {
     "data": {
      "application/vnd.jupyter.widget-view+json": {
       "model_id": "930957a1449d4fecb05071d01242cbc6",
       "version_major": 2,
       "version_minor": 0
      },
      "text/plain": [
       "  0%|          | 0/28881 [00:00<?, ?it/s]"
      ]
     },
     "metadata": {},
     "output_type": "display_data"
    },
    {
     "name": "stdout",
     "output_type": "stream",
     "text": [
      "Extracting ./data/mnist/MNIST/raw/train-labels-idx1-ubyte.gz to ./data/mnist/MNIST/raw\n",
      "\n",
      "Downloading http://yann.lecun.com/exdb/mnist/t10k-images-idx3-ubyte.gz\n",
      "Downloading http://yann.lecun.com/exdb/mnist/t10k-images-idx3-ubyte.gz to ./data/mnist/MNIST/raw/t10k-images-idx3-ubyte.gz\n"
     ]
    },
    {
     "data": {
      "application/vnd.jupyter.widget-view+json": {
       "model_id": "79d0fe7e478149d09276c89192ad450a",
       "version_major": 2,
       "version_minor": 0
      },
      "text/plain": [
       "  0%|          | 0/1648877 [00:00<?, ?it/s]"
      ]
     },
     "metadata": {},
     "output_type": "display_data"
    },
    {
     "name": "stdout",
     "output_type": "stream",
     "text": [
      "Extracting ./data/mnist/MNIST/raw/t10k-images-idx3-ubyte.gz to ./data/mnist/MNIST/raw\n",
      "\n",
      "Downloading http://yann.lecun.com/exdb/mnist/t10k-labels-idx1-ubyte.gz\n",
      "Downloading http://yann.lecun.com/exdb/mnist/t10k-labels-idx1-ubyte.gz to ./data/mnist/MNIST/raw/t10k-labels-idx1-ubyte.gz\n"
     ]
    },
    {
     "data": {
      "application/vnd.jupyter.widget-view+json": {
       "model_id": "a6f02ba6327b4875a6479b345e3a7933",
       "version_major": 2,
       "version_minor": 0
      },
      "text/plain": [
       "  0%|          | 0/4542 [00:00<?, ?it/s]"
      ]
     },
     "metadata": {},
     "output_type": "display_data"
    },
    {
     "name": "stdout",
     "output_type": "stream",
     "text": [
      "Extracting ./data/mnist/MNIST/raw/t10k-labels-idx1-ubyte.gz to ./data/mnist/MNIST/raw\n",
      "\n"
     ]
    }
   ],
   "source": [
    "# 逻辑回归，对图片进行分类\n",
    "\n",
    "# 图片库：MNIST\n",
    "import torch\n",
    "import torchvision.datasets\n",
    "import torchvision.transforms\n",
    "\n",
    "train_data = torchvision.datasets.MNIST('./data/mnist', train=True, transform=torchvision.transforms.ToTensor(),\\\n",
    "                                       download=True)\n",
    "test_data = torchvision.datasets.MNIST('./data/mnist', train=False, transform=torchvision.transforms.ToTensor(),\n",
    "                                      download=True)\n"
   ]
  },
  {
   "cell_type": "code",
   "execution_count": 12,
   "metadata": {},
   "outputs": [
    {
     "name": "stdout",
     "output_type": "stream",
     "text": [
      "train: 600\n",
      "test: 100\n"
     ]
    },
    {
     "data": {
      "image/png": "[encoded data removed]",
      "text/plain": [
       "<Figure size 432x288 with 1 Axes>"
      ]
     },
     "metadata": {
      "needs_background": "light"
     },
     "output_type": "display_data"
    }
   ],
   "source": [
    "import torch.utils.data\n",
    "batch_size = 100\n",
    "train_loader = torch.utils.data.DataLoader(dataset=train_data, batch_size=batch_size)\n",
    "test_loader = torch.utils.data.DataLoader(dataset=test_data, batch_size=batch_size)\n",
    "\n",
    "print('train:', len(train_loader))\n",
    "print('test:', len(test_loader))\n",
    "\n",
    "import matplotlib.pyplot as plt\n",
    "n=3\n",
    "for images, labels in train_loader:\n",
    "    plt.imshow(images[0,0], cmap='gray')\n",
    "    plt.title('label={}'.format(labels[0]))\n",
    "    break"
   ]
  },
  {
   "cell_type": "code",
   "execution_count": 19,
   "metadata": {},
   "outputs": [
    {
     "name": "stdout",
     "output_type": "stream",
     "text": [
      "第1次迭代的第1批次的损失为2.3092713356018066\n",
      "第2次迭代的第1批次的损失为1.622860074043274\n",
      "第3次迭代的第1批次的损失为1.5791789293289185\n",
      "第4次迭代的第1批次的损失为1.561703085899353\n",
      "第5次迭代的第1批次的损失为1.5525022745132446\n",
      "第6次迭代的第1批次的损失为1.5469367504119873\n",
      "第7次迭代的第1批次的损失为1.5432206392288208\n",
      "第8次迭代的第1批次的损失为1.5405322313308716\n",
      "第9次迭代的第1批次的损失为1.5384602546691895\n",
      "第10次迭代的第1批次的损失为1.5367850065231323\n"
     ]
    }
   ],
   "source": [
    "# 分类\n",
    "\n",
    "import torch\n",
    "\n",
    "model = torch.nn.Sequential(torch.nn.Linear(28*28,10),\n",
    "                           torch.nn.Sigmoid())\n",
    "criterion = torch.nn.CrossEntropyLoss()\n",
    "optimizer = torch.optim.Adam(model.parameters(), lr=0.001)\n",
    "\n",
    "for step in range(10):\n",
    "    for idx, (images, labels) in enumerate(train_loader):\n",
    "        x = images.reshape(-1, 28*28)\n",
    "        optimizer.zero_grad()\n",
    "        output = model(x)\n",
    "        loss = criterion(output, labels)\n",
    "        loss.backward()\n",
    "        optimizer.step()\n",
    "        \n",
    "        if idx==0:\n",
    "            print('第{}次迭代的第{}批次的损失为{}'.format(step+1, idx+1, loss))\n"
   ]
  },
  {
   "cell_type": "code",
   "execution_count": null,
   "metadata": {},
   "outputs": [],
   "source": []
  }
 ],
 "metadata": {
  "kernelspec": {
   "display_name": "Python 3",
   "language": "python",
   "name": "python3"
  },
  "language_info": {
   "codemirror_mode": {
    "name": "ipython",
    "version": 3
   },
   "file_extension": ".py",
   "mimetype": "text/x-python",
   "name": "python",
   "nbconvert_exporter": "python",
   "pygments_lexer": "ipython3",
   "version": "3.6.5"
  }
 },
 "nbformat": 4,
 "nbformat_minor": 2
}

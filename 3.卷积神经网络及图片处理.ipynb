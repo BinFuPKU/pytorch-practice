{
 "cells": [
  {
   "cell_type": "code",
   "execution_count": 11,
   "metadata": {},
   "outputs": [
    {
     "name": "stdout",
     "output_type": "stream",
     "text": [
      "torch.Size([20, 33, 51, 202])\n"
     ]
    }
   ],
   "source": [
    "# 卷积神经网络最初用来处理图片信息，后来扩展到处理文本等其他领域\n",
    "# 卷积神经网络两个主要操作：卷积和池化，前者过滤得到合理的扫描图，后者扫描子图并计算子图的过滤值。\n",
    "# 卷积神经网络存在不全（pad）、膨胀（dilate）和步幅（stride）\n",
    "\n",
    "# 不同维度的卷积：torch.nn.Conv1d, torch.nn.Conv2d, torch.nn.Conv3d\n",
    "# 不同维度的转置卷积： torch.nn.ConvTranspose1d, torch.nn.ConvTranspose2d, torch.nn.ConvTranspose3d\n",
    "\n",
    "import torch\n",
    "\n",
    "# 二维卷积的操作\n",
    "input = torch.randn(20,16,100,200)\n",
    "conv = torch.nn.Conv2d(in_channels=16, out_channels=33, kernel_size=(3,3), stride=(2,1), \n",
    "                       padding=(4,2), dilation=(3,1))\n",
    "output = conv(input)\n",
    "# 50*100 二维张量上进行扫描 （ 50(0) +2pad）/2=26, ( 100(0) +2)/1=102\n",
    "# 100*200 二维张量上进行扫描 （ 100(0) +2pad）/2=51, (200(0) +2)/1=202\n",
    "# dilation 空洞卷积， 1表示距离为1，2表示之间差距一个空格，3表示之间差距两个空格\n",
    "print(output.shape)\n",
    "\n"
   ]
  },
  {
   "cell_type": "code",
   "execution_count": 19,
   "metadata": {},
   "outputs": [
    {
     "name": "stdout",
     "output_type": "stream",
     "text": [
      "output: tensor([[[2., 4.]]])\n",
      "input_: tensor([[[0., 2., 0., 4.]]])\n",
      "input__: tensor([[[2., 2., 4., 4.]]])\n"
     ]
    }
   ],
   "source": [
    "# 池化-下采样，反池化-上采样\n",
    "\n",
    "# 不同维度的最大池化：torch.nn.MaxPool1d, torch.nn.MaxPool2d, torch.nn.MaxPool3d\n",
    "# 不同维度的自适应最大池化： torch.nn.AdaptiveMaxPool1d, torch.nn.AdaptiveMaxPool2d, torch.nn.AdaptiveMaxPool3d\n",
    "# 不同维度的平均池化：torch.nn.AvgPool1d, torch.nn.AvgPool2d, torch.nn.AvgPool3d\n",
    "# 不同维度的l池化： torch.nn.LPPool1d, torch.nn.LPPool2d\n",
    "# 不同维度的最大反池化：torch.nn.MaxMUnpool1d, torch.nn.MaxUnpool2d, torch.nn.MaxUnpool3d\n",
    "\n",
    "# 最近邻上采样（维度：1，2，3），线性上采样（维度：linear, bilinear, trilinear）\n",
    "\n",
    "import torch\n",
    "\n",
    "# 一维池化\n",
    "input = torch.tensor([[[1,2,3,4,5]]], dtype=torch.float32)\n",
    "pool = torch.nn.MaxPool1d(kernel_size=2, stride=2, return_indices=True) # 记住位置，方便后续反池化\n",
    "output, indices = pool(input) # 最大池化的最大元素对应的原位置信息\n",
    "print('output:', output)\n",
    "# max([1,2])=2, max([3,4])=4\n",
    "\n",
    "# 一维反池化\n",
    "unpool = torch.nn.MaxUnpool1d(kernel_size=2, stride=2)\n",
    "input_ = unpool(output, indices) # 恢复那些（除最大元素位置外）其他位置元素为0值，没有上采样\n",
    "print('input_:', input_)\n",
    "\n",
    "# 最近邻上采样\n",
    "upsample = torch.nn.Upsample(scale_factor=2, mode='nearest') # 每个元素重复几倍\n",
    "input__ = upsample(output) # 恢复那些（除最大元素位置外）其他位置元素为，最近最大元素值\n",
    "print('input__:', input__)\n",
    "\n"
   ]
  },
  {
   "cell_type": "code",
   "execution_count": 27,
   "metadata": {},
   "outputs": [
    {
     "name": "stdout",
     "output_type": "stream",
     "text": [
      "tensor([[0., 0., 0., 0., 0.],\n",
      "        [0., 1., 2., 3., 0.],\n",
      "        [0., 4., 5., 6., 0.],\n",
      "        [0., 0., 0., 0., 0.]])\n",
      "tensor([[0., 0., 0., 0., 0.],\n",
      "        [0., 1., 2., 3., 0.],\n",
      "        [0., 4., 5., 6., 0.],\n",
      "        [0., 0., 0., 0., 0.]])\n",
      "tensor([[3., 2., 1., 2., 3., 2., 1.],\n",
      "        [6., 5., 4., 5., 6., 5., 4.]])\n"
     ]
    }
   ],
   "source": [
    "# 补全pad\n",
    "# 常数补全：torch.nn.ConstantPad2d, torch.nn.ZeroPad2d （指定数字）\n",
    "# 重复补全：torch.nn.ReplicationPad2d （最后一个元素复制）\n",
    "# 反射补全：torch.nn.RelectionPad2d, torch.nn.ReflectionPad3d (从最后一个元素开始逆向填充，对称)\n",
    "\n",
    "import torch\n",
    "\n",
    "input = torch.tensor([[1,2,3], [4,5,6]], dtype=torch.float32)\n",
    "print(torch.nn.ConstantPad2d(padding=[1,1,1,1], value=0)(input))\n",
    "print(torch.nn.ZeroPad2d(padding=[1,1,1,1])(input))\n",
    "print(torch.nn.ReflectionPad2d(padding=[2,2])(input))\n"
   ]
  },
  {
   "cell_type": "code",
   "execution_count": 37,
   "metadata": {},
   "outputs": [
    {
     "name": "stdout",
     "output_type": "stream",
     "text": [
      "train_loader: 600\n",
      "test_loader: 100\n"
     ]
    },
    {
     "name": "stderr",
     "output_type": "stream",
     "text": [
      "\r",
      "0it [00:00, ?it/s]"
     ]
    },
    {
     "name": "stdout",
     "output_type": "stream",
     "text": [
      "第0次迭代第0批次下：训练损失为2.3026509284973145，测试准确率为0.1128\n"
     ]
    },
    {
     "name": "stderr",
     "output_type": "stream",
     "text": [
      "600it [15:01,  1.50s/it]\n",
      "0it [00:00, ?it/s]"
     ]
    },
    {
     "name": "stdout",
     "output_type": "stream",
     "text": [
      "第1次迭代第0批次下：训练损失为2.331150531768799，测试准确率为0.098\n"
     ]
    },
    {
     "name": "stderr",
     "output_type": "stream",
     "text": [
      "600it [15:14,  1.52s/it]\n",
      "0it [00:00, ?it/s]"
     ]
    },
    {
     "name": "stdout",
     "output_type": "stream",
     "text": [
      "第2次迭代第0批次下：训练损失为2.331150531768799，测试准确率为0.098\n"
     ]
    },
    {
     "name": "stderr",
     "output_type": "stream",
     "text": [
      "600it [15:13,  1.52s/it]\n",
      "0it [00:00, ?it/s]"
     ]
    },
    {
     "name": "stdout",
     "output_type": "stream",
     "text": [
      "第3次迭代第0批次下：训练损失为2.331150531768799，测试准确率为0.098\n"
     ]
    },
    {
     "name": "stderr",
     "output_type": "stream",
     "text": [
      "600it [15:10,  1.52s/it]\n",
      "0it [00:00, ?it/s]"
     ]
    },
    {
     "name": "stdout",
     "output_type": "stream",
     "text": [
      "第4次迭代第0批次下：训练损失为2.331150531768799，测试准确率为0.098\n"
     ]
    },
    {
     "name": "stderr",
     "output_type": "stream",
     "text": [
      "600it [15:32,  1.55s/it]\n",
      "0it [00:00, ?it/s]"
     ]
    },
    {
     "name": "stdout",
     "output_type": "stream",
     "text": [
      "第5次迭代第0批次下：训练损失为2.331150531768799，测试准确率为0.098\n"
     ]
    },
    {
     "name": "stderr",
     "output_type": "stream",
     "text": [
      "600it [15:13,  1.52s/it]\n",
      "0it [00:00, ?it/s]"
     ]
    },
    {
     "name": "stdout",
     "output_type": "stream",
     "text": [
      "第6次迭代第0批次下：训练损失为2.331150531768799，测试准确率为0.098\n"
     ]
    },
    {
     "name": "stderr",
     "output_type": "stream",
     "text": [
      "600it [15:11,  1.52s/it]\n",
      "0it [00:00, ?it/s]"
     ]
    },
    {
     "name": "stdout",
     "output_type": "stream",
     "text": [
      "第7次迭代第0批次下：训练损失为2.331150531768799，测试准确率为0.098\n"
     ]
    },
    {
     "name": "stderr",
     "output_type": "stream",
     "text": [
      "600it [15:21,  1.54s/it]\n",
      "0it [00:00, ?it/s]"
     ]
    },
    {
     "name": "stdout",
     "output_type": "stream",
     "text": [
      "第8次迭代第0批次下：训练损失为2.331150531768799，测试准确率为0.098\n"
     ]
    },
    {
     "name": "stderr",
     "output_type": "stream",
     "text": [
      "600it [15:39,  1.57s/it]\n",
      "0it [00:00, ?it/s]"
     ]
    },
    {
     "name": "stdout",
     "output_type": "stream",
     "text": [
      "第9次迭代第0批次下：训练损失为2.331150531768799，测试准确率为0.098\n"
     ]
    },
    {
     "name": "stderr",
     "output_type": "stream",
     "text": [
      "600it [15:37,  1.56s/it]\n"
     ]
    }
   ],
   "source": [
    "# 基于卷积神经网络的图片分类\n",
    "# 采用MNIST数据集(28*28像素)\n",
    "\n",
    "from tqdm import tqdm\n",
    "import torch\n",
    "import torchvision.datasets\n",
    "import torchvision.transforms\n",
    "\n",
    "# model\n",
    "class Net(torch.nn.Module):\n",
    "    def __init__(self):\n",
    "        super(Net, self).__init__()\n",
    "        self.conv = torch.nn.Sequential(\n",
    "            torch.nn.Conv2d(1, 64, kernel_size=3, padding=1),\n",
    "            torch.nn.ReLU(),\n",
    "            torch.nn.Conv2d(64, 128, kernel_size=3, padding=1),\n",
    "            torch.nn.ReLU(),\n",
    "            torch.nn.MaxPool2d(stride=2, kernel_size=2))\n",
    "        self.dense = torch.nn.Sequential(\n",
    "            torch.nn.Linear(128*14*14, 1024),\n",
    "            torch.nn.ReLU(),\n",
    "            torch.nn.Dropout(p=0.5),\n",
    "            torch.nn.Linear(1024,10),\n",
    "            torch.nn.Softmax(-1))\n",
    "    def forward(self, x):\n",
    "        x1 = self.conv(x)\n",
    "        x2 = x1.view(-1, 128*14*14)\n",
    "        return self.dense(x2)\n",
    "\n",
    "# data\n",
    "train_data = torchvision.datasets.MNIST('./data/mnist', train=True, transform=torchvision.transforms.ToTensor(),\n",
    "                                       download=True)\n",
    "test_data = torchvision.datasets.MNIST('./data/mnist', train=False, transform=torchvision.transforms.ToTensor(),\n",
    "                                      download=True)\n",
    "batch_size = 100\n",
    "train_loader = torch.utils.data.DataLoader(dataset=train_data, batch_size=batch_size)\n",
    "test_loader = torch.utils.data.DataLoader(dataset=test_data, batch_size=batch_size)\n",
    "print('train_loader:', len(train_loader))\n",
    "print('test_loader:', len(test_loader))\n",
    "\n",
    "net = Net()\n",
    "\n",
    "criterion = torch.nn.CrossEntropyLoss()\n",
    "optimizer = torch.optim.Adam(net.parameters(), lr=0.01)\n",
    "\n",
    "for step in range(10):\n",
    "    for idx, (images, labels) in tqdm(enumerate(train_loader)):\n",
    "        optimizer.zero_grad()\n",
    "        output = net(images)\n",
    "        loss = criterion(output, labels)\n",
    "        if idx==0:\n",
    "            correct, total = 0, 0\n",
    "            for images_, labels_ in test_loader:\n",
    "                output_ = net(images_)\n",
    "                output__ = torch.argmax(output_, 1)\n",
    "                total += labels_.size(0)\n",
    "                correct += (output__==labels_).sum().item()\n",
    "            print('第{}次迭代第{}批次下：训练损失为{}，测试准确率为{}'.format(step, idx, loss.item(), correct/total))\n",
    "        loss.backward()\n",
    "        optimizer.step()\n"
   ]
  },
  {
   "cell_type": "code",
   "execution_count": 5,
   "metadata": {},
   "outputs": [
    {
     "data": {
      "text/plain": [
       "<matplotlib.image.AxesImage at 0x7f793083eba8>"
      ]
     },
     "execution_count": 5,
     "metadata": {},
     "output_type": "execute_result"
    },
    {
     "data": {
      "image/png": "[encoded data removed]",
      "text/plain": [
       "<Figure size 432x288 with 1 Axes>"
      ]
     },
     "metadata": {
      "needs_background": "light"
     },
     "output_type": "display_data"
    }
   ],
   "source": [
    "# 读取图片\n",
    "\n",
    "from PIL import Image\n",
    "import matplotlib.pyplot as plt\n",
    "import numpy as np\n",
    "import torch\n",
    "\n",
    "panda = np.array(Image.open('./data/fake_images/0.png').resize((224, 224)))\n",
    "panda_tensor = torch.from_numpy(panda)\n",
    "plt.imshow(panda)\n"
   ]
  },
  {
   "cell_type": "code",
   "execution_count": null,
   "metadata": {},
   "outputs": [
    {
     "name": "stderr",
     "output_type": "stream",
     "text": [
      "Downloading: \"https://download.pytorch.org/models/vgg16-397923af.pth\" to /Users/fubin/.cache/torch/hub/checkpoints/vgg16-397923af.pth\n"
     ]
    },
    {
     "data": {
      "application/vnd.jupyter.widget-view+json": {
       "model_id": "71e0832e72654841985ea99bc4ffee76",
       "version_major": 2,
       "version_minor": 0
      },
      "text/plain": [
       "  0%|          | 0.00/528M [00:00<?, ?B/s]"
      ]
     },
     "metadata": {},
     "output_type": "display_data"
    }
   ],
   "source": [
    "# 利用register_forward_hook来可视化中间层\n",
    "\n",
    "from torchvision import models, transforms\n",
    "import matplotlib.pyplot as plt\n",
    "from PIL import Image\n",
    "import torch\n",
    "from torch.utils.data import DataLoader, Dataset\n",
    "from torchvision.datasets import ImageFolder\n",
    "\n",
    "# image = Image.open('./data/fake_images/0.png').resize((224, 224))\n",
    "# image = np.array(Image.open('./data/fake_images/0.png').resize((224, 224)))\n",
    "# image_tensor = torch.from_numpy(image)\n",
    "\n",
    "simple_transform = transforms.Compose([transforms.Resize((224, 224)),\n",
    "                                       transforms.ToTensor(),\n",
    "                                       transforms.Normalize([0.485, 0.456, 0.406],\n",
    "                                                            [0.229, 0.224, 0.225])])\n",
    "data = ImageFolder(\"./data/fake_images/\", simple_transform)\n",
    "\n",
    "train = DataLoader(data, batch_size=1,  shuffle=False, num_workers=5)\n",
    "\n",
    "vggmodel = models.vgg16(pretrained=True)\n",
    "\n",
    "class LayerActivations():\n",
    "    features = None\n",
    "    def __init__(self, model, layer_num):\n",
    "        self.hook = model[layer_num].register_forward_hook(self.hook_fn)\n",
    "    def hook_fn(self, module, input, output):\n",
    "        self.features = output.cpu()\n",
    "    def remove(self):\n",
    "        self.hook.remove()\n",
    "\n",
    "# 可视化第0层\n",
    "convout = LayerActivations(vggmodel.features, 0)\n",
    "# out = vggmodel(torch.autograd.Variable(image_tensor))\n",
    "img = next(iter(train))\n",
    "out = vggmodel(torch.autograd.Variable(img))\n",
    "\n",
    "convout.remove()\n",
    "features = convout.features\n",
    "\n",
    "ig = plt.figure(figsize=(20, 50))\n",
    "fig.subplots_adjust(left=0, right=1, bottom=0, top=0.8, hspace=0, wspace=0.2)\n",
    "for i in range(5):\n",
    "    ax = fig.add_subplot(12, 5, i+1, xticks=[], yticks=[])\n",
    "    ax.imshow(out[0][i].detach().numpy(), cmap=\"gray\")\n",
    "    \n",
    "plt.show()"
   ]
  },
  {
   "cell_type": "code",
   "execution_count": null,
   "metadata": {},
   "outputs": [],
   "source": []
  }
 ],
 "metadata": {
  "kernelspec": {
   "display_name": "Python 3",
   "language": "python",
   "name": "python3"
  },
  "language_info": {
   "codemirror_mode": {
    "name": "ipython",
    "version": 3
   },
   "file_extension": ".py",
   "mimetype": "text/x-python",
   "name": "python",
   "nbconvert_exporter": "python",
   "pygments_lexer": "ipython3",
   "version": "3.6.5"
  }
 },
 "nbformat": 4,
 "nbformat_minor": 2
}
